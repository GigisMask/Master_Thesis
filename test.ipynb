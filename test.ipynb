{
 "cells": [
  {
   "cell_type": "code",
   "execution_count": 1,
   "metadata": {},
   "outputs": [
    {
     "name": "stdout",
     "output_type": "stream",
     "text": [
      "[Errno 17] File exists: 'data/100x100_V0_0.1_2//Mean'\n"
     ]
    }
   ],
   "source": [
    "from json.tool import main\n",
    "import math\n",
    "import os\n",
    "import os.path\n",
    "\n",
    "import matplotlib.pyplot as plt\n",
    "import numpy as np\n",
    "\n",
    "x_size = 100\n",
    "y_size = 100\n",
    "\n",
    "# name and path of the folder\n",
    "dataSpec = \"100x100_V0_0.1_2\"\n",
    "dataPath = \"data/\" + dataSpec + \"/\"\n",
    "# Check how many files there are in the folder (excludes the debug file)\n",
    "files = [name for name in os.listdir(dataPath) if (\n",
    "    os.path.isfile(dataPath + name) and name != 'debug.dat')]\n",
    "\n",
    "# number of frames per file/simulation\n",
    "frn = len(np.genfromtxt(dataPath + files[0]))\n",
    "fileProc = np.zeros((x_size * y_size, frn, len(files)))  # processed files\n",
    "i = 0\n",
    "for file in files:\n",
    "    fileData = np.genfromtxt(dataPath + file)\n",
    "    for j in range(frn):\n",
    "        fileProc[:, j, i] = fileData[j]\n",
    "    i += 1\n",
    "\n",
    "dataMean = np.mean(fileProc, axis=2) #average wavefunction of the $frn simulations\n",
    "\n",
    "try: \n",
    "    os.mkdir(dataPath + \"/Mean\")\n",
    "except OSError as error: \n",
    "    print(error)  "
   ]
  },
  {
   "cell_type": "code",
   "execution_count": 7,
   "metadata": {},
   "outputs": [],
   "source": [
    "f = open(dataPath + \"Mean/mean.dat\", \"w\")\n",
    "dataMean = np.swapaxes(dataMean,0,1)\n",
    "np.savetxt(f, dataMean)\n",
    "f.close()"
   ]
  }
 ],
 "metadata": {
  "interpreter": {
   "hash": "e7370f93d1d0cde622a1f8e1c04877d8463912d04d973331ad4851f04de6915a"
  },
  "kernelspec": {
   "display_name": "Python 3.10.2 64-bit",
   "language": "python",
   "name": "python3"
  },
  "language_info": {
   "codemirror_mode": {
    "name": "ipython",
    "version": 3
   },
   "file_extension": ".py",
   "mimetype": "text/x-python",
   "name": "python",
   "nbconvert_exporter": "python",
   "pygments_lexer": "ipython3",
   "version": "3.10.4"
  },
  "orig_nbformat": 4
 },
 "nbformat": 4,
 "nbformat_minor": 2
}
